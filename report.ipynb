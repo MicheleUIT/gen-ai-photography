{
 "cells": [
  {
   "cell_type": "code",
   "execution_count": null,
   "metadata": {},
   "outputs": [],
   "source": []
  },
  {
   "cell_type": "markdown",
   "metadata": {},
   "source": [
    "# Reframing pipeline\n"
   ]
  },
  {
   "cell_type": "markdown",
   "metadata": {},
   "source": [
    "The reframing pipeline's objective is to identify the subject within an image and then modify the image accordingly. This modification involves shifting and zooming to align the subjects with the thirds. In the process of shifting and zooming, parts of the image that were previously outside the frame may become visible. To ensure a complete and visually appealing image, these newly visible areas are filled in using an image restoration technique known as inpainting. Inpainting effectively reconstructs the lost or deteriorated parts of the image, resulting in a well-framed and complete image. To use this pipeline run main.py but need first define path to image."
   ]
  },
  {
   "cell_type": "markdown",
   "metadata": {},
   "source": [
    "## Some terms used\n",
    "\n",
    "(ADD terms here)"
   ]
  },
  {
   "cell_type": "markdown",
   "metadata": {},
   "source": [
    "## AI models used in the pipeline\n",
    "\n",
    "(Add AI models here, objecte detection, cloating detection, Inpaint)"
   ]
  },
  {
   "cell_type": "markdown",
   "metadata": {},
   "source": [
    "## Flowchart of reframing pipeline\n",
    "![Alt text](Diagrams/reframing_flowchart.png)"
   ]
  },
  {
   "cell_type": "markdown",
   "metadata": {},
   "source": [
    "## Some Example\n",
    "(Take an example image with multiple objects and run it using differnet focus, some where Inpaint is needed and some where it isnt)"
   ]
  },
  {
   "cell_type": "markdown",
   "metadata": {},
   "source": []
  }
 ],
 "metadata": {
  "kernelspec": {
   "display_name": "Python 3",
   "language": "python",
   "name": "python3"
  },
  "language_info": {
   "codemirror_mode": {
    "name": "ipython",
    "version": 3
   },
   "file_extension": ".py",
   "mimetype": "text/x-python",
   "name": "python",
   "nbconvert_exporter": "python",
   "pygments_lexer": "ipython3",
   "version": "3.11.4"
  }
 },
 "nbformat": 4,
 "nbformat_minor": 2
}
